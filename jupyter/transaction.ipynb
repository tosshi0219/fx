{
 "cells": [
  {
   "cell_type": "markdown",
   "metadata": {},
   "source": [
    "### Library"
   ]
  },
  {
   "cell_type": "code",
   "execution_count": 58,
   "metadata": {},
   "outputs": [],
   "source": [
    "from datetime import datetime, timedelta\n",
    "import oandapy\n",
    "import sys\n",
    "sys.path.append('/home/toshio/projects/fx')\n",
    "from config import token, acc_id\n",
    "from lib.inference import Inference\n",
    "import time"
   ]
  },
  {
   "cell_type": "code",
   "execution_count": 59,
   "metadata": {},
   "outputs": [],
   "source": [
    "def get_current_state():\n",
    "    try:\n",
    "        response = oanda.get_position(acc_id, instrument ='USD_JPY')\n",
    "        side = response.get('side')\n",
    "        units = response.get('units')\n",
    "    except oandapy.OandaError:\n",
    "        side = 'zero_position'\n",
    "        units = 0\n",
    "    return side, units"
   ]
  },
  {
   "cell_type": "code",
   "execution_count": 60,
   "metadata": {},
   "outputs": [],
   "source": [
    "def order(side, units):\n",
    "    trade_expire = datetime.utcnow() + timedelta(minutes=10)\n",
    "    trade_expire = trade_expire.isoformat(\"T\") + \"Z\"\n",
    "    \n",
    "    if side == 'buy':\n",
    "        price = oanda.get_prices(instruments ='USD_JPY')['prices'][0]['ask']\n",
    "    elif side == 'sell':\n",
    "        price = oanda.get_prices(instruments ='USD_JPY')['prices'][0]['bid']\n",
    "    \n",
    "    response = oanda.create_order(acc_id,\n",
    "        instrument='USD_JPY',\n",
    "        units=units,\n",
    "        side=side,\n",
    "        type='limit',\n",
    "        price=price,\n",
    "        expiry=trade_expire\n",
    "    )    "
   ]
  },
  {
   "cell_type": "code",
   "execution_count": 64,
   "metadata": {},
   "outputs": [],
   "source": [
    "def transaction():\n",
    "    #現在のポジションを取得\n",
    "    current_side, current_units = get_current_state()\n",
    "\n",
    "    #ゼロポジションにする\n",
    "    if current_side == 'buy':\n",
    "        print('now you are long position')\n",
    "        order('sell', current_units)\n",
    "        print('reset position')\n",
    "    elif current_side == 'sell':\n",
    "        print('now you are short position')\n",
    "        order('buy', current_units)\n",
    "        print('reset position')\n",
    "    elif current_side == 'zero_position':\n",
    "        print('now you are zero position')\n",
    "\n",
    "    #1時間後の差額を推定する\n",
    "    inf = Inference()\n",
    "    pred_delta=float(inf.pred[0][0])\n",
    "    print('1時間の推定差額は{}'.format(pred_delta))\n",
    "\n",
    "    if pred_delta >= 0.1:\n",
    "        print('Buy!')\n",
    "        order('buy', 100)\n",
    "    elif pred_delta <= -0.1:\n",
    "        print('Sell!')\n",
    "        order('sell', 100)\n",
    "    elif -0.1 < pred_delta < 0.1:\n",
    "        print('do nothing')"
   ]
  },
  {
   "cell_type": "code",
   "execution_count": null,
   "metadata": {
    "scrolled": true
   },
   "outputs": [
    {
     "name": "stdout",
     "output_type": "stream",
     "text": [
      "------transaction_001 2018-09-06 11:49:26------\n",
      "now you are zero position\n",
      "1時間の推定差額は-0.007457053754478693\n",
      "do nothing\n",
      "------transaction_002 2018-09-06 12:49:32------\n",
      "now you are zero position\n",
      "1時間の推定差額は-0.006690496113151312\n",
      "do nothing\n",
      "------transaction_003 2018-09-06 13:49:36------\n",
      "now you are zero position\n",
      "1時間の推定差額は-0.004511792678385973\n",
      "do nothing\n"
     ]
    }
   ],
   "source": [
    "oanda = oandapy.API(environment=\"practice\", access_token=token)\n",
    "#100時間取引する\n",
    "j = 0\n",
    "while j < 100:\n",
    "    j +=1\n",
    "    now = datetime.utcnow().strftime('%Y-%m-%d %H:%M:%S')\n",
    "    print('------transaction_{0:03} {1}------'.format(j, now))\n",
    "    transaction()\n",
    "    time.sleep(3600)"
   ]
  },
  {
   "cell_type": "code",
   "execution_count": null,
   "metadata": {},
   "outputs": [],
   "source": []
  },
  {
   "cell_type": "code",
   "execution_count": null,
   "metadata": {},
   "outputs": [],
   "source": []
  },
  {
   "cell_type": "code",
   "execution_count": null,
   "metadata": {},
   "outputs": [],
   "source": []
  },
  {
   "cell_type": "code",
   "execution_count": null,
   "metadata": {},
   "outputs": [],
   "source": []
  }
 ],
 "metadata": {
  "kernelspec": {
   "display_name": "Python 3",
   "language": "python",
   "name": "python3"
  },
  "language_info": {
   "codemirror_mode": {
    "name": "ipython",
    "version": 3
   },
   "file_extension": ".py",
   "mimetype": "text/x-python",
   "name": "python",
   "nbconvert_exporter": "python",
   "pygments_lexer": "ipython3",
   "version": "3.6.3"
  }
 },
 "nbformat": 4,
 "nbformat_minor": 2
}
