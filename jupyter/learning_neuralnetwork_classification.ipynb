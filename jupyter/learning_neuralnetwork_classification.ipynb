{
 "cells": [
  {
   "cell_type": "code",
   "execution_count": 9,
   "metadata": {},
   "outputs": [
    {
     "data": {
      "text/html": [
       "<style>\n",
       "    div#notebook-container    { width: 95%; }\n",
       "    div#menubar-container     { width: 65%; }\n",
       "    div#maintoolbar-container { width: 99%; }\n",
       "</style>"
      ],
      "text/plain": [
       "<IPython.core.display.HTML object>"
      ]
     },
     "metadata": {},
     "output_type": "display_data"
    }
   ],
   "source": [
    "%%HTML\n",
    "<style>\n",
    "    div#notebook-container    { width: 95%; }\n",
    "    div#menubar-container     { width: 65%; }\n",
    "    div#maintoolbar-container { width: 99%; }\n",
    "</style>"
   ]
  },
  {
   "cell_type": "markdown",
   "metadata": {},
   "source": [
    "### Library"
   ]
  },
  {
   "cell_type": "code",
   "execution_count": 37,
   "metadata": {},
   "outputs": [],
   "source": [
    "from datetime import datetime, timedelta\n",
    "import pandas as pd\n",
    "import numpy as np\n",
    "import matplotlib.pyplot as plt\n",
    "import pickle\n",
    "\n",
    "%matplotlib inline\n",
    "from sklearn.metrics import mean_squared_error\n",
    "from sklearn.metrics import confusion_matrix, classification_report, roc_curve, accuracy_score\n",
    "from sklearn.preprocessing import StandardScaler\n",
    "\n",
    "import renom as rm\n",
    "from renom.optimizer import Adam, Adagrad\n",
    "from renom.cuda import set_cuda_active\n",
    "# if you would like to use GPU, set True, otherwise you should be set to False\n",
    "set_cuda_active(False)"
   ]
  },
  {
   "cell_type": "code",
   "execution_count": 11,
   "metadata": {},
   "outputs": [],
   "source": [
    "def create_dataset(data, look_back, pred_length):\n",
    "    exp, target = [], []\n",
    "    for i in range(len(data) - look_back - pred_length):\n",
    "        exp.append(data[i : i+look_back, :])\n",
    "        target.append(data[i + look_back : i + look_back + pred_length, 9].T[0])\n",
    "        \n",
    "    n_features = np.array(exp).shape[2]\n",
    "    exp = np.reshape(np.array(exp), [-1, look_back, n_features])\n",
    "    target = np.reshape(np.array(target), [-1, 1])\n",
    "    return exp, target"
   ]
  },
  {
   "cell_type": "code",
   "execution_count": 12,
   "metadata": {},
   "outputs": [],
   "source": [
    "def create_class_dataset(data, look_back, pred_length, class_num):\n",
    "    exp, target = [], []\n",
    "    for i in range(len(data) - look_back - pred_length):\n",
    "        exp.append(data[i : i+look_back, :])\n",
    "        target.append(data[i + look_back : i + look_back + pred_length, 32:].T)\n",
    "        \n",
    "    n_features = np.array(exp).shape[2]\n",
    "    exp = np.reshape(np.array(exp), [-1, look_back, n_features])\n",
    "    target = np.reshape(np.array(target), [-1, class_num])\n",
    "    return exp, target"
   ]
  },
  {
   "cell_type": "code",
   "execution_count": 13,
   "metadata": {},
   "outputs": [],
   "source": [
    "def split_data(X, y, test_size=0.1):\n",
    "    pos = int(round(len(X) * (1-test_size)))\n",
    "    X_train, y_train = X[:pos], y[:pos]\n",
    "    X_test, y_test = X[pos:], y[pos:]\n",
    "    return X_train, y_train, X_test, y_test, pos"
   ]
  },
  {
   "cell_type": "code",
   "execution_count": 14,
   "metadata": {},
   "outputs": [],
   "source": [
    "gran = 'H1'"
   ]
  },
  {
   "cell_type": "code",
   "execution_count": 15,
   "metadata": {},
   "outputs": [],
   "source": [
    "# with open('../intermediate_data/prep_data_{}.pickle'.format(gran), mode='rb') as f:\n",
    "#     df = pickle.load(f)"
   ]
  },
  {
   "cell_type": "code",
   "execution_count": 16,
   "metadata": {},
   "outputs": [],
   "source": [
    "with open('../intermediate_data/prep_class_data_{}.pickle'.format(gran), mode='rb') as f:\n",
    "    df = pickle.load(f)"
   ]
  },
  {
   "cell_type": "code",
   "execution_count": 17,
   "metadata": {},
   "outputs": [],
   "source": [
    "df_std = df.copy()\n",
    "stds, means = [], []\n",
    "cols = []\n",
    "for col in df:\n",
    "    if (col != 'up') & (col != 'down') & (col != 'nochange'):\n",
    "        std = df[col].std()\n",
    "        mean = df[col].mean()\n",
    "        df_std[col] = (df[col] - mean) / std\n",
    "        stds.append(std)\n",
    "        means.append(mean)\n",
    "data = np.array(df_std)"
   ]
  },
  {
   "cell_type": "code",
   "execution_count": 18,
   "metadata": {},
   "outputs": [],
   "source": [
    "look_back = 10\n",
    "pred_length = 1\n",
    "class_num = 3\n",
    "# X, y = create_dataset(data, look_back, pred_length)\n",
    "X, y = create_class_dataset(data, look_back, pred_length, class_num)"
   ]
  },
  {
   "cell_type": "code",
   "execution_count": 19,
   "metadata": {},
   "outputs": [],
   "source": [
    "X_train, y_train, X_test, y_test, pos = split_data(X, y)"
   ]
  },
  {
   "cell_type": "code",
   "execution_count": 20,
   "metadata": {},
   "outputs": [],
   "source": [
    "sequential = rm.Sequential([\n",
    "    rm.Lstm(30),\n",
    "    rm.Dropout(0.2),\n",
    "    rm.Lstm(20),\n",
    "    rm.Dropout(0.2),\n",
    "#     rm.Dense(pred_length)\n",
    "    rm.Dense(class_num)\n",
    "])"
   ]
  },
  {
   "cell_type": "code",
   "execution_count": 21,
   "metadata": {
    "scrolled": true
   },
   "outputs": [
    {
     "name": "stdout",
     "output_type": "stream",
     "text": [
      "epoch:0000 loss:0.79510 test_loss:0.71979\n",
      "epoch:0010 loss:0.75453 test_loss:0.70637\n",
      "epoch:0020 loss:0.75166 test_loss:0.70914\n",
      "epoch:0030 loss:0.74933 test_loss:0.70713\n",
      "epoch:0040 loss:0.74788 test_loss:0.70891\n",
      "epoch:0050 loss:0.74672 test_loss:0.70767\n",
      "epoch:0060 loss:0.74589 test_loss:0.70893\n",
      "epoch:0070 loss:0.74419 test_loss:0.70591\n",
      "epoch:0080 loss:0.74420 test_loss:0.70439\n",
      "epoch:0090 loss:0.74312 test_loss:0.70342\n",
      "epoch:0100 loss:0.74281 test_loss:0.70568\n",
      "epoch:0110 loss:0.74241 test_loss:0.70361\n",
      "epoch:0120 loss:0.74159 test_loss:0.70271\n",
      "epoch:0130 loss:0.74136 test_loss:0.70362\n",
      "epoch:0140 loss:0.74167 test_loss:0.70351\n",
      "epoch:0150 loss:0.74060 test_loss:0.70599\n",
      "epoch:0160 loss:0.74050 test_loss:0.70425\n",
      "epoch:0170 loss:0.73991 test_loss:0.70243\n",
      "epoch:0180 loss:0.74024 test_loss:0.70699\n",
      "epoch:0190 loss:0.74059 test_loss:0.70232\n",
      "epoch:0200 loss:0.73940 test_loss:0.70578\n",
      "epoch:0210 loss:0.73912 test_loss:0.70531\n",
      "epoch:0220 loss:0.73881 test_loss:0.70486\n",
      "epoch:0230 loss:0.73872 test_loss:0.70421\n",
      "epoch:0240 loss:0.73803 test_loss:0.70733\n",
      "epoch:0250 loss:0.73799 test_loss:0.70549\n",
      "epoch:0260 loss:0.73841 test_loss:0.70890\n",
      "epoch:0270 loss:0.73815 test_loss:0.70467\n",
      "epoch:0280 loss:0.73840 test_loss:0.70465\n",
      "epoch:0290 loss:0.73742 test_loss:0.70605\n",
      "epoch:0300 loss:0.73778 test_loss:0.70722\n",
      "epoch:0310 loss:0.73765 test_loss:0.70140\n",
      "epoch:0320 loss:0.73775 test_loss:0.70691\n",
      "epoch:0330 loss:0.73734 test_loss:0.70474\n",
      "epoch:0340 loss:0.73628 test_loss:0.70377\n",
      "epoch:0350 loss:0.73647 test_loss:0.70359\n",
      "epoch:0360 loss:0.73696 test_loss:0.70432\n",
      "epoch:0370 loss:0.73638 test_loss:0.70411\n",
      "epoch:0380 loss:0.73671 test_loss:0.70539\n",
      "epoch:0390 loss:0.73559 test_loss:0.70634\n",
      "epoch:0400 loss:0.73551 test_loss:0.70505\n",
      "epoch:0410 loss:0.73544 test_loss:0.70412\n",
      "epoch:0420 loss:0.73550 test_loss:0.70465\n",
      "epoch:0430 loss:0.73501 test_loss:0.70833\n",
      "epoch:0440 loss:0.73581 test_loss:0.70520\n",
      "epoch:0450 loss:0.73539 test_loss:0.70539\n",
      "epoch:0460 loss:0.73480 test_loss:0.70480\n",
      "epoch:0470 loss:0.73503 test_loss:0.70729\n",
      "epoch:0480 loss:0.73450 test_loss:0.70659\n",
      "epoch:0490 loss:0.73466 test_loss:0.70778\n",
      "epoch:0500 loss:0.73404 test_loss:0.70481\n",
      "epoch:0510 loss:0.73366 test_loss:0.70962\n",
      "epoch:0520 loss:0.73348 test_loss:0.70588\n",
      "epoch:0530 loss:0.73424 test_loss:0.70811\n",
      "epoch:0540 loss:0.73381 test_loss:0.70681\n",
      "epoch:0550 loss:0.73325 test_loss:0.70613\n",
      "epoch:0560 loss:0.73277 test_loss:0.70687\n",
      "epoch:0570 loss:0.73351 test_loss:0.70664\n",
      "epoch:0580 loss:0.73264 test_loss:0.70657\n",
      "epoch:0590 loss:0.73284 test_loss:0.70526\n",
      "epoch:0600 loss:0.73286 test_loss:0.70719\n",
      "epoch:0610 loss:0.73237 test_loss:0.70571\n",
      "epoch:0620 loss:0.73255 test_loss:0.70521\n",
      "epoch:0630 loss:0.73294 test_loss:0.70661\n",
      "epoch:0640 loss:0.73261 test_loss:0.70670\n",
      "epoch:0650 loss:0.73276 test_loss:0.70654\n",
      "epoch:0660 loss:0.73283 test_loss:0.70659\n",
      "epoch:0670 loss:0.73183 test_loss:0.70721\n",
      "epoch:0680 loss:0.73183 test_loss:0.70588\n",
      "epoch:0690 loss:0.73152 test_loss:0.70254\n",
      "epoch:0700 loss:0.73112 test_loss:0.70699\n",
      "epoch:0710 loss:0.73122 test_loss:0.70608\n",
      "epoch:0720 loss:0.73139 test_loss:0.70703\n",
      "epoch:0730 loss:0.73148 test_loss:0.70702\n",
      "epoch:0740 loss:0.73083 test_loss:0.70743\n",
      "epoch:0750 loss:0.73081 test_loss:0.70657\n",
      "epoch:0760 loss:0.73034 test_loss:0.70922\n",
      "epoch:0770 loss:0.73037 test_loss:0.70814\n",
      "epoch:0780 loss:0.73061 test_loss:0.70631\n",
      "epoch:0790 loss:0.73051 test_loss:0.70703\n",
      "epoch:0800 loss:0.73076 test_loss:0.70844\n",
      "epoch:0810 loss:0.72993 test_loss:0.70789\n",
      "epoch:0820 loss:0.73022 test_loss:0.70720\n",
      "epoch:0830 loss:0.72990 test_loss:0.70853\n",
      "epoch:0840 loss:0.73029 test_loss:0.70639\n",
      "epoch:0850 loss:0.72974 test_loss:0.70712\n",
      "epoch:0860 loss:0.72952 test_loss:0.70638\n",
      "epoch:0870 loss:0.73009 test_loss:0.70619\n",
      "epoch:0880 loss:0.72966 test_loss:0.70891\n",
      "epoch:0890 loss:0.72957 test_loss:0.71039\n",
      "epoch:0900 loss:0.72885 test_loss:0.70962\n",
      "epoch:0910 loss:0.72927 test_loss:0.71002\n",
      "epoch:0920 loss:0.72800 test_loss:0.71039\n",
      "epoch:0930 loss:0.72899 test_loss:0.70846\n",
      "epoch:0940 loss:0.72836 test_loss:0.70968\n",
      "epoch:0950 loss:0.72847 test_loss:0.70847\n",
      "epoch:0960 loss:0.72822 test_loss:0.71029\n",
      "epoch:0970 loss:0.72821 test_loss:0.70923\n",
      "epoch:0980 loss:0.72840 test_loss:0.70802\n",
      "epoch:0990 loss:0.72841 test_loss:0.71139\n"
     ]
    }
   ],
   "source": [
    "batch_size = 1024\n",
    "epoch = 1000\n",
    "N = len(X_train)\n",
    "T = X_train.shape[1]\n",
    "\n",
    "learning_curve = []\n",
    "test_learning_curve = []\n",
    "optimizer = Adagrad()\n",
    "for i in range(epoch):\n",
    "    loss = 0\n",
    "    test_loss = 0\n",
    "    perm = np.random.permutation(N)\n",
    "    for j in range(N//batch_size):\n",
    "        train_batch = X_train[perm[j*batch_size : (j+1)*batch_size]]\n",
    "        response_batch = y_train[perm[j*batch_size : (j+1)*batch_size]]\n",
    "        l = 0\n",
    "        with sequential.train():\n",
    "            for t in range(T):\n",
    "                z = sequential(train_batch[:, t, :])\n",
    "                l = rm.softmax_cross_entropy(z, response_batch)\n",
    "            sequential.truncate()\n",
    "        l.grad().update(optimizer)\n",
    "        loss += l.as_ndarray()\n",
    "    loss = loss / (N // batch_size)\n",
    "    l_test = 0\n",
    "    for t in range(T):\n",
    "        z = sequential(X_test[:, t, :])\n",
    "        l_test = rm.softmax_cross_entropy(z, y_test)\n",
    "    sequential.truncate()\n",
    "    test_loss += l_test.as_ndarray()\n",
    "    if i % 10 == 0:\n",
    "        print(\"epoch:{:04d} loss:{:.5f} test_loss:{:.5f}\".format(i, loss, test_loss))\n",
    "    learning_curve.append(loss)\n",
    "    test_learning_curve.append(test_loss)"
   ]
  },
  {
   "cell_type": "code",
   "execution_count": 22,
   "metadata": {},
   "outputs": [
    {
     "data": {
      "image/png": "[encoded data removed]",
      "text/plain": [
       "<Figure size 720x288 with 1 Axes>"
      ]
     },
     "metadata": {},
     "output_type": "display_data"
    }
   ],
   "source": [
    "plt.figure(figsize=(10, 4))\n",
    "plt.plot(learning_curve, label='loss')\n",
    "plt.plot(test_learning_curve, label='test_loss', alpha=0.6)\n",
    "plt.title('Learning curve')\n",
    "plt.xlabel(\"Epoch\")\n",
    "plt.ylabel(\"MSE\")\n",
    "plt.ylim(0, 2)\n",
    "plt.legend()\n",
    "plt.grid()"
   ]
  },
  {
   "cell_type": "code",
   "execution_count": null,
   "metadata": {},
   "outputs": [],
   "source": []
  },
  {
   "cell_type": "code",
   "execution_count": 25,
   "metadata": {},
   "outputs": [],
   "source": [
    "# predict test value\n",
    "for t in range(T):\n",
    "    y_test_pred = sequential(X_test[:, t, :])\n",
    "sequential.truncate()"
   ]
  },
  {
   "cell_type": "code",
   "execution_count": 27,
   "metadata": {},
   "outputs": [],
   "source": [
    "# train value\n",
    "for t in range(T):\n",
    "    y_train_pred = sequential(X_train[:, t, :])\n",
    "sequential.truncate()"
   ]
  },
  {
   "cell_type": "code",
   "execution_count": 43,
   "metadata": {},
   "outputs": [],
   "source": [
    "train_pred = np.array(np.argmax(y_train_pred, axis=1))\n",
    "test_pred = np.array(np.argmax(y_test_pred, axis=1))"
   ]
  },
  {
   "cell_type": "code",
   "execution_count": 36,
   "metadata": {},
   "outputs": [],
   "source": [
    "train_true = np.argmax(y_train, axis=1)\n",
    "test_true = np.argmax(y_test, axis=1)"
   ]
  },
  {
   "cell_type": "code",
   "execution_count": 44,
   "metadata": {},
   "outputs": [
    {
     "name": "stdout",
     "output_type": "stream",
     "text": [
      "[[   3    0  859]\n",
      " [   2    0  866]\n",
      " [   3    2 5557]]\n",
      "             precision    recall  f1-score   support\n",
      "\n",
      "          0       0.38      0.00      0.01       862\n",
      "          1       0.00      0.00      0.00       868\n",
      "          2       0.76      1.00      0.87      5562\n",
      "\n",
      "avg / total       0.63      0.76      0.66      7292\n",
      "\n"
     ]
    }
   ],
   "source": [
    "print(confusion_matrix(test_true, test_pred))\n",
    "print(classification_report(test_true, test_pred))"
   ]
  },
  {
   "cell_type": "code",
   "execution_count": 46,
   "metadata": {},
   "outputs": [],
   "source": [
    "sequential.save(\"../class_model/lstm_{}_{}.h5\".format(gran, look_back))"
   ]
  },
  {
   "cell_type": "code",
   "execution_count": 47,
   "metadata": {},
   "outputs": [],
   "source": [
    "with open('../class_model/std_scaler_{}.pickle'.format(gran), mode='wb') as f:\n",
    "    pickle.dump(stds, f)"
   ]
  },
  {
   "cell_type": "code",
   "execution_count": 48,
   "metadata": {},
   "outputs": [],
   "source": [
    "with open('../class_model/mean_scaler_{}.pickle'.format(gran), mode='wb') as f:\n",
    "    pickle.dump(means, f)"
   ]
  },
  {
   "cell_type": "code",
   "execution_count": null,
   "metadata": {},
   "outputs": [],
   "source": []
  }
 ],
 "metadata": {
  "kernelspec": {
   "display_name": "Python 3",
   "language": "python",
   "name": "python3"
  },
  "language_info": {
   "codemirror_mode": {
    "name": "ipython",
    "version": 3
   },
   "file_extension": ".py",
   "mimetype": "text/x-python",
   "name": "python",
   "nbconvert_exporter": "python",
   "pygments_lexer": "ipython3",
   "version": "3.6.3"
  }
 },
 "nbformat": 4,
 "nbformat_minor": 2
}
