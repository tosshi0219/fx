{
 "cells": [
  {
   "cell_type": "markdown",
   "metadata": {},
   "source": [
    "### Library"
   ]
  },
  {
   "cell_type": "code",
   "execution_count": 3,
   "metadata": {},
   "outputs": [],
   "source": [
    "from datetime import datetime, timedelta\n",
    "import oandapy\n",
    "import sys\n",
    "sys.path.append('/Users/toshio/project/fx')\n",
    "from config import token, acc_id\n",
    "from lib.inference import Inference"
   ]
  },
  {
   "cell_type": "code",
   "execution_count": 7,
   "metadata": {},
   "outputs": [],
   "source": [
    "def transaction():\n",
    "    # set the trade to expire after one day\n",
    "    trade_expire = datetime.utcnow() + timedelta(days=1)\n",
    "    trade_expire = trade_expire.isoformat(\"T\") + \"Z\"\n",
    "\n",
    "    response = oanda.get_prices(instruments='USD_JPY')\n",
    "    prices = response.get(\"prices\")\n",
    "    asking_price = prices[0].get(\"ask\")\n",
    "\n",
    "    response = oanda.create_order(acc_id,\n",
    "        instrument='USD_JPY',\n",
    "        units=100,\n",
    "        side='buy',\n",
    "        type='limit',\n",
    "        price=asking_price,\n",
    "        expiry=trade_expire\n",
    "    )"
   ]
  },
  {
   "cell_type": "code",
   "execution_count": 10,
   "metadata": {},
   "outputs": [
    {
     "name": "stdout",
     "output_type": "stream",
     "text": [
      "[[0.00055853]]\n"
     ]
    }
   ],
   "source": [
    "oanda = oandapy.API(environment=\"practice\", access_token=token)\n",
    "inf = Inference()\n",
    "print(inf.pred)\n",
    "if inf.pred > 0.1:\n",
    "    transaction()\n",
    "else:\n",
    "    pass"
   ]
  },
  {
   "cell_type": "code",
   "execution_count": null,
   "metadata": {},
   "outputs": [],
   "source": []
  }
 ],
 "metadata": {
  "kernelspec": {
   "display_name": "Python 3",
   "language": "python",
   "name": "python3"
  },
  "language_info": {
   "codemirror_mode": {
    "name": "ipython",
    "version": 3
   },
   "file_extension": ".py",
   "mimetype": "text/x-python",
   "name": "python",
   "nbconvert_exporter": "python",
   "pygments_lexer": "ipython3",
   "version": "3.6.4"
  }
 },
 "nbformat": 4,
 "nbformat_minor": 2
}
