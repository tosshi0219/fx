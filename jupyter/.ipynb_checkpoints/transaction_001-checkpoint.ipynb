{
 "cells": [
  {
   "cell_type": "markdown",
   "metadata": {},
   "source": [
    "### Library"
   ]
  },
  {
   "cell_type": "code",
   "execution_count": 1,
   "metadata": {},
   "outputs": [],
   "source": [
    "from datetime import datetime, timedelta\n",
    "import numpy as np\n",
    "import oandapy\n",
    "import sys\n",
    "sys.path.append('/Users/toshio/project/fx')\n",
    "from config import token, acc_id\n",
    "from lib.inference import Inference\n",
    "import time"
   ]
  },
  {
   "cell_type": "code",
   "execution_count": 2,
   "metadata": {},
   "outputs": [],
   "source": [
    "def get_current_state():\n",
    "    try:\n",
    "        response = oanda.get_position(acc_id, instrument ='USD_JPY')\n",
    "        side = response.get('side')\n",
    "        units = response.get('units')\n",
    "    except oandapy.OandaError:\n",
    "        side = 'zero_position'\n",
    "        units = 0\n",
    "    return side, units"
   ]
  },
  {
   "cell_type": "code",
   "execution_count": 3,
   "metadata": {},
   "outputs": [],
   "source": [
    "def order(side, units):\n",
    "    trade_expire = datetime.utcnow() + timedelta(minutes=1)\n",
    "    trade_expire = trade_expire.isoformat(\"T\") + \"Z\"\n",
    "        \n",
    "    response = oanda.create_order(\n",
    "        acc_id,\n",
    "        instrument='USD_JPY',\n",
    "        units=units,\n",
    "        side=side,\n",
    "        type='market',\n",
    "        expiry=trade_expire\n",
    "    )"
   ]
  },
  {
   "cell_type": "code",
   "execution_count": 4,
   "metadata": {},
   "outputs": [],
   "source": [
    "def transaction(units):\n",
    "    #未決済取引情報を取得\n",
    "    open_trades = oanda.get_trades(acc_id)\n",
    "    if len(open_trades['trades']) != 0:\n",
    "        #未決済取引があればポジションをcloseする\n",
    "        trade_id = open_trades['trades'][0]['id']\n",
    "        closed_trades = oanda.close_trade(acc_id, trade_id)\n",
    "        profit = closed_trades['profit']\n",
    "        print('profit:{}'.format(profit))\n",
    "    else:\n",
    "        pass\n",
    "\n",
    "    #1時間後の差額を推定する\n",
    "    inf = Inference()\n",
    "    pred_delta=float(inf.pred[0][0])\n",
    "    print('1時間後の推定差額は{}'.format(np.round(pred_delta, 4)))\n",
    "\n",
    "    if pred_delta >= 0.1:\n",
    "        print('Buy!')\n",
    "        order('buy', units)\n",
    "    elif pred_delta <= -0.1:\n",
    "        print('Sell!')\n",
    "        order('sell', units)\n",
    "    elif -0.1 < pred_delta < 0.1:\n",
    "        print('do nothing')"
   ]
  },
  {
   "cell_type": "code",
   "execution_count": 5,
   "metadata": {
    "scrolled": true
   },
   "outputs": [
    {
     "name": "stdout",
     "output_type": "stream",
     "text": [
      "------transaction_001------\n",
      "2018-09-15 10:13:48\n",
      "1時間後の推定差額は0.0359\n",
      "do nothing\n",
      "-------------------------------------\n"
     ]
    },
    {
     "ename": "KeyboardInterrupt",
     "evalue": "",
     "output_type": "error",
     "traceback": [
      "\u001b[0;31m---------------------------------------------------------------------------\u001b[0m",
      "\u001b[0;31mKeyboardInterrupt\u001b[0m                         Traceback (most recent call last)",
      "\u001b[0;32m<ipython-input-5-da1f6b60bea3>\u001b[0m in \u001b[0;36m<module>\u001b[0;34m()\u001b[0m\n\u001b[1;32m     11\u001b[0m     \u001b[0mtransaction\u001b[0m\u001b[0;34m(\u001b[0m\u001b[0mtrading_unit\u001b[0m\u001b[0;34m)\u001b[0m\u001b[0;34m\u001b[0m\u001b[0m\n\u001b[1;32m     12\u001b[0m     \u001b[0mprint\u001b[0m\u001b[0;34m(\u001b[0m\u001b[0;34m'-------------------------------------'\u001b[0m\u001b[0;34m)\u001b[0m\u001b[0;34m\u001b[0m\u001b[0m\n\u001b[0;32m---> 13\u001b[0;31m     \u001b[0mtime\u001b[0m\u001b[0;34m.\u001b[0m\u001b[0msleep\u001b[0m\u001b[0;34m(\u001b[0m\u001b[0;36m60\u001b[0m\u001b[0;34m)\u001b[0m \u001b[0;31m#60秒に設定中\u001b[0m\u001b[0;34m\u001b[0m\u001b[0m\n\u001b[0m",
      "\u001b[0;31mKeyboardInterrupt\u001b[0m: "
     ]
    }
   ],
   "source": [
    "oanda = oandapy.API(environment=\"practice\", access_token=token)\n",
    "trading_unit = 1000\n",
    "\n",
    "#100時間取引する\n",
    "j = 0\n",
    "while j < 1000:\n",
    "    j +=1\n",
    "    now = datetime.utcnow().strftime('%Y-%m-%d %H:%M:%S')\n",
    "    print('------transaction_{0:03}------'.format(j))\n",
    "    print(now)\n",
    "    transaction(trading_unit)\n",
    "    print('-------------------------------------')\n",
    "    time.sleep(60) #60秒に設定中"
   ]
  },
  {
   "cell_type": "code",
   "execution_count": null,
   "metadata": {},
   "outputs": [],
   "source": []
  }
 ],
 "metadata": {
  "kernelspec": {
   "display_name": "Python 3",
   "language": "python",
   "name": "python3"
  },
  "language_info": {
   "codemirror_mode": {
    "name": "ipython",
    "version": 3
   },
   "file_extension": ".py",
   "mimetype": "text/x-python",
   "name": "python",
   "nbconvert_exporter": "python",
   "pygments_lexer": "ipython3",
   "version": "3.6.4"
  }
 },
 "nbformat": 4,
 "nbformat_minor": 2
}
