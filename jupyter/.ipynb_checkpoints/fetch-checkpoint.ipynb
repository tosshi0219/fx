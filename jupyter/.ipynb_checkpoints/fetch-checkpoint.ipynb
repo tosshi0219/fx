{
 "cells": [
  {
   "cell_type": "code",
   "execution_count": 1,
   "metadata": {
    "scrolled": true
   },
   "outputs": [
    {
     "name": "stderr",
     "output_type": "stream",
     "text": [
      "\r",
      "  0%|          | 0/936 [00:00<?, ?it/s]"
     ]
    },
    {
     "ename": "OandaError",
     "evalue": "OANDA API returned error code 46 (Invalid instrument: NZDJPN is not a valid instrument) ",
     "output_type": "error",
     "traceback": [
      "\u001b[0;31m---------------------------------------------------------------------------\u001b[0m",
      "\u001b[0;31mOandaError\u001b[0m                                Traceback (most recent call last)",
      "\u001b[0;32m<ipython-input-1-5d9fb41362a2>\u001b[0m in \u001b[0;36m<module>\u001b[0;34m()\u001b[0m\n\u001b[1;32m     71\u001b[0m \u001b[0;32mif\u001b[0m \u001b[0m__name__\u001b[0m \u001b[0;34m==\u001b[0m \u001b[0;34m\"__main__\"\u001b[0m\u001b[0;34m:\u001b[0m\u001b[0;34m\u001b[0m\u001b[0m\n\u001b[1;32m     72\u001b[0m     \u001b[0mfet\u001b[0m \u001b[0;34m=\u001b[0m \u001b[0mCandleFetcher\u001b[0m\u001b[0;34m(\u001b[0m\u001b[0;34m)\u001b[0m\u001b[0;34m\u001b[0m\u001b[0m\n\u001b[0;32m---> 73\u001b[0;31m     \u001b[0mfet\u001b[0m\u001b[0;34m.\u001b[0m\u001b[0mfetch\u001b[0m\u001b[0;34m(\u001b[0m\u001b[0mdatetime\u001b[0m\u001b[0;34m(\u001b[0m\u001b[0;36m2010\u001b[0m\u001b[0;34m,\u001b[0m \u001b[0;36m1\u001b[0m\u001b[0;34m,\u001b[0m \u001b[0;36m1\u001b[0m\u001b[0;34m)\u001b[0m\u001b[0;34m,\u001b[0m \u001b[0mdatetime\u001b[0m\u001b[0;34m(\u001b[0m\u001b[0;36m2018\u001b[0m\u001b[0;34m,\u001b[0m \u001b[0;36m8\u001b[0m\u001b[0;34m,\u001b[0m \u001b[0;36m23\u001b[0m\u001b[0;34m)\u001b[0m\u001b[0;34m)\u001b[0m\u001b[0;34m\u001b[0m\u001b[0m\n\u001b[0m",
      "\u001b[0;32m<ipython-input-1-5d9fb41362a2>\u001b[0m in \u001b[0;36mfetch\u001b[0;34m(self, start_t, end_t)\u001b[0m\n\u001b[1;32m     42\u001b[0m                 \u001b[0mstart\u001b[0m\u001b[0;34m=\u001b[0m\u001b[0mstart\u001b[0m\u001b[0;34m,\u001b[0m\u001b[0;34m\u001b[0m\u001b[0m\n\u001b[1;32m     43\u001b[0m                 \u001b[0mend\u001b[0m\u001b[0;34m=\u001b[0m\u001b[0mend\u001b[0m\u001b[0;34m,\u001b[0m\u001b[0;34m\u001b[0m\u001b[0m\n\u001b[0;32m---> 44\u001b[0;31m                 \u001b[0mcandleFormat\u001b[0m\u001b[0;34m=\u001b[0m\u001b[0;34m\"midpoint\"\u001b[0m\u001b[0;34m,\u001b[0m\u001b[0;34m\u001b[0m\u001b[0m\n\u001b[0m\u001b[1;32m     45\u001b[0m             )\n\u001b[1;32m     46\u001b[0m \u001b[0;34m\u001b[0m\u001b[0m\n",
      "\u001b[0;32m~/py3env/lib/python3.6/site-packages/oandapy/oandapy.py\u001b[0m in \u001b[0;36mget_history\u001b[0;34m(self, **params)\u001b[0m\n\u001b[1;32m     36\u001b[0m         \"\"\"\n\u001b[1;32m     37\u001b[0m         \u001b[0mendpoint\u001b[0m \u001b[0;34m=\u001b[0m \u001b[0;34m'v1/candles'\u001b[0m\u001b[0;34m\u001b[0m\u001b[0m\n\u001b[0;32m---> 38\u001b[0;31m         \u001b[0;32mreturn\u001b[0m \u001b[0mself\u001b[0m\u001b[0;34m.\u001b[0m\u001b[0mrequest\u001b[0m\u001b[0;34m(\u001b[0m\u001b[0mendpoint\u001b[0m\u001b[0;34m,\u001b[0m \u001b[0mparams\u001b[0m\u001b[0;34m=\u001b[0m\u001b[0mparams\u001b[0m\u001b[0;34m)\u001b[0m\u001b[0;34m\u001b[0m\u001b[0m\n\u001b[0m\u001b[1;32m     39\u001b[0m \u001b[0;34m\u001b[0m\u001b[0m\n\u001b[1;32m     40\u001b[0m     \u001b[0;34m\"\"\"Accounts\"\"\"\u001b[0m\u001b[0;34m\u001b[0m\u001b[0m\n",
      "\u001b[0;32m~/py3env/lib/python3.6/site-packages/oandapy/oandapy.py\u001b[0m in \u001b[0;36mrequest\u001b[0;34m(self, endpoint, method, params)\u001b[0m\n\u001b[1;32m    282\u001b[0m         \u001b[0;31m# error message\u001b[0m\u001b[0;34m\u001b[0m\u001b[0;34m\u001b[0m\u001b[0m\n\u001b[1;32m    283\u001b[0m         \u001b[0;32mif\u001b[0m \u001b[0mresponse\u001b[0m\u001b[0;34m.\u001b[0m\u001b[0mstatus_code\u001b[0m \u001b[0;34m>=\u001b[0m \u001b[0;36m400\u001b[0m\u001b[0;34m:\u001b[0m\u001b[0;34m\u001b[0m\u001b[0m\n\u001b[0;32m--> 284\u001b[0;31m             \u001b[0;32mraise\u001b[0m \u001b[0mOandaError\u001b[0m\u001b[0;34m(\u001b[0m\u001b[0mcontent\u001b[0m\u001b[0;34m)\u001b[0m\u001b[0;34m\u001b[0m\u001b[0m\n\u001b[0m\u001b[1;32m    285\u001b[0m \u001b[0;34m\u001b[0m\u001b[0m\n\u001b[1;32m    286\u001b[0m         \u001b[0;32mreturn\u001b[0m \u001b[0mcontent\u001b[0m\u001b[0;34m\u001b[0m\u001b[0m\n",
      "\u001b[0;31mOandaError\u001b[0m: OANDA API returned error code 46 (Invalid instrument: NZDJPN is not a valid instrument) "
     ]
    }
   ],
   "source": [
    "import sys\n",
    "from datetime import datetime, timedelta\n",
    "import numpy as np\n",
    "import tqdm\n",
    "import pandas as pd\n",
    "import oandapy\n",
    "\n",
    "sys.path.append('/home/toshio/project/fx')\n",
    "from config import token\n",
    "\n",
    "\n",
    "class CandleFetcher(object):\n",
    "\n",
    "    name = \"NZDJPN_H1\"\n",
    "    currency_pair = \"NZD_JPN\"\n",
    "    unit = \"NZD_JPY\"\n",
    "    granularity = \"H1\"\n",
    "    oanda = oandapy.API(environment=\"practice\", access_token=token)\n",
    "\n",
    "    def fetch(self, start_t, end_t):\n",
    "        save_name = \"../intermediate_data/{}_{}_{}.pkl\".format(\n",
    "            self.name,\n",
    "            start_t.strftime('%Y%m%d@%H%M%S'),\n",
    "            end_t.strftime('%Y%m%d@%H%M%S'))\n",
    "        dates = []\n",
    "        minutes_cls = []\n",
    "        minutes_max = []\n",
    "        minutes_min = []\n",
    "        minutes_opn = []\n",
    "        nth = 0\n",
    "        mod = (end_t - start_t)\n",
    "        dmin = int(min(60 * 27 * 3 , max(mod.days * 24 * 60 + mod.seconds // 60, 1))) #M15以上のときは、60*27*3*15\n",
    "        mod = timedelta(minutes=dmin)\n",
    "        bar = tqdm.tqdm(range(int(np.ceil((end_t - start_t) / mod))))\n",
    "        \n",
    "        while start_t + mod * nth < end_t:\n",
    "            start = datetime.strftime(start_t + mod * nth, '%Y-%m-%dT%H:%M:%SZ')\n",
    "            end = datetime.strftime(min(start_t + mod * (nth + 1), end_t), '%Y-%m-%dT%H:%M:%SZ')\n",
    "            response = self.oanda.get_history(\n",
    "                instrument=self.currency_pair,\n",
    "                granularity=self.granularity,\n",
    "                start=start,\n",
    "                end=end,\n",
    "                candleFormat=\"midpoint\",\n",
    "            )\n",
    "\n",
    "            for res in sorted(response[\"candles\"], key=lambda x: x[\"time\"]):\n",
    "                md = datetime.strptime(res[\"time\"][:-8], '%Y-%m-%dT%H:%M:%S')\n",
    "                dates.append(md)\n",
    "                minutes_opn.append(res[\"openMid\"])\n",
    "                minutes_cls.append(res[\"closeMid\"])\n",
    "                minutes_min.append(res[\"lowMid\"])\n",
    "                minutes_max.append(res[\"highMid\"])\n",
    "\n",
    "            data = {\n",
    "                \"date\": dates,\n",
    "                \"open\": minutes_opn,\n",
    "                \"close\": minutes_cls,\n",
    "                \"high\": minutes_max,\n",
    "                \"low\": minutes_min,\n",
    "            }\n",
    "            bar.set_description(\"Get {} ~ {}\".format(start, end))\n",
    "            bar.update(1)\n",
    "            nth += 1\n",
    "\n",
    "        df = pd.DataFrame(data, columns=[\"date\", \"open\", \"close\", \"high\", \"low\"])\n",
    "        df.to_pickle(save_name)\n",
    "        print(df.head(5))\n",
    "\n",
    "\n",
    "if __name__ == \"__main__\":\n",
    "    fet = CandleFetcher()\n",
    "    fet.fetch(datetime(2010, 1, 1), datetime(2018, 8, 23))"
   ]
  },
  {
   "cell_type": "code",
   "execution_count": null,
   "metadata": {},
   "outputs": [],
   "source": []
  }
 ],
 "metadata": {
  "kernelspec": {
   "display_name": "Python 3",
   "language": "python",
   "name": "python3"
  },
  "language_info": {
   "codemirror_mode": {
    "name": "ipython",
    "version": 3
   },
   "file_extension": ".py",
   "mimetype": "text/x-python",
   "name": "python",
   "nbconvert_exporter": "python",
   "pygments_lexer": "ipython3",
   "version": "3.6.3"
  }
 },
 "nbformat": 4,
 "nbformat_minor": 2
}
