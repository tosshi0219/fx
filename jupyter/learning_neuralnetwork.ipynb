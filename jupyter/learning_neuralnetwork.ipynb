{
 "cells": [
  {
   "cell_type": "code",
   "execution_count": 1,
   "metadata": {},
   "outputs": [
    {
     "data": {
      "text/html": [
       "<style>\n",
       "    div#notebook-container    { width: 95%; }\n",
       "    div#menubar-container     { width: 65%; }\n",
       "    div#maintoolbar-container { width: 99%; }\n",
       "</style>"
      ],
      "text/plain": [
       "<IPython.core.display.HTML object>"
      ]
     },
     "metadata": {},
     "output_type": "display_data"
    }
   ],
   "source": [
    "%%HTML\n",
    "<style>\n",
    "    div#notebook-container    { width: 95%; }\n",
    "    div#menubar-container     { width: 65%; }\n",
    "    div#maintoolbar-container { width: 99%; }\n",
    "</style>"
   ]
  },
  {
   "cell_type": "markdown",
   "metadata": {},
   "source": [
    "### Library"
   ]
  },
  {
   "cell_type": "code",
   "execution_count": 2,
   "metadata": {},
   "outputs": [],
   "source": [
    "from datetime import datetime, timedelta\n",
    "import pandas as pd\n",
    "import numpy as np\n",
    "import matplotlib.pyplot as plt\n",
    "import pickle\n",
    "\n",
    "%matplotlib inline\n",
    "from sklearn.metrics import mean_squared_error\n",
    "from sklearn.preprocessing import StandardScaler\n",
    "\n",
    "import renom as rm\n",
    "from renom.optimizer import Adam\n",
    "from renom.cuda import set_cuda_active\n",
    "# if you would like to use GPU, set True, otherwise you should be set to False\n",
    "set_cuda_active(False)"
   ]
  },
  {
   "cell_type": "code",
   "execution_count": 83,
   "metadata": {},
   "outputs": [],
   "source": [
    "def create_dataset(data, look_back):\n",
    "    exp = []\n",
    "    target = []\n",
    "    for i in range(len(data)-look_back):\n",
    "        exp.append(data[i : i+look_back, :])\n",
    "        target.append(data[i + look_back,9])\n",
    "    n_features = np.array(exp).shape[2]\n",
    "    exp = np.array(exp)\n",
    "    target = np.array(target).reshape(-1,1)\n",
    "    return exp, target"
   ]
  },
  {
   "cell_type": "code",
   "execution_count": 4,
   "metadata": {},
   "outputs": [],
   "source": [
    "def split_data(X, y, test_size=0.1):\n",
    "    pos = int(round(len(X) * (1-test_size)))\n",
    "    X_train, y_train = X[:pos], y[:pos]\n",
    "    X_test, y_test = X[pos:], y[pos:]\n",
    "    return X_train, y_train, X_test, y_test"
   ]
  },
  {
   "cell_type": "code",
   "execution_count": 126,
   "metadata": {},
   "outputs": [],
   "source": [
    "with open('../intermediate_data/prep_data.pickle', mode='rb') as f:\n",
    "    df = pickle.load(f)"
   ]
  },
  {
   "cell_type": "code",
   "execution_count": 147,
   "metadata": {},
   "outputs": [],
   "source": [
    "sc = StandardScaler()\n",
    "df_std = sc.fit_transform(df)"
   ]
  },
  {
   "cell_type": "code",
   "execution_count": 148,
   "metadata": {},
   "outputs": [],
   "source": [
    "X, y = create_dataset(df_std, 20)"
   ]
  },
  {
   "cell_type": "code",
   "execution_count": 149,
   "metadata": {},
   "outputs": [],
   "source": [
    "X_train, y_train, X_test, y_test = split_data(X, y)"
   ]
  },
  {
   "cell_type": "code",
   "execution_count": 150,
   "metadata": {},
   "outputs": [
    {
     "data": {
      "text/plain": [
       "(4412, 20, 33)"
      ]
     },
     "execution_count": 150,
     "metadata": {},
     "output_type": "execute_result"
    }
   ],
   "source": [
    "X_train.shape"
   ]
  },
  {
   "cell_type": "code",
   "execution_count": 152,
   "metadata": {},
   "outputs": [],
   "source": [
    "sequential = rm.Sequential([\n",
    "    rm.Lstm(30),\n",
    "    rm.Lstm(10),\n",
    "    rm.Dense(1)\n",
    "])"
   ]
  },
  {
   "cell_type": "code",
   "execution_count": 153,
   "metadata": {},
   "outputs": [
    {
     "name": "stdout",
     "output_type": "stream",
     "text": [
      "epoch:0000 loss:0.50811 test_loss:0.46722\n"
     ]
    }
   ],
   "source": [
    "batch_size = 100\n",
    "epoch = 1\n",
    "N = len(X_train)\n",
    "T = X_train.shape[1]\n",
    "\n",
    "learning_curve = []\n",
    "test_learning_curve = []\n",
    "optimizer = Adam(lr=0.001)\n",
    "for i in range(epoch):\n",
    "    loss = 0\n",
    "    test_loss = 0\n",
    "    perm = np.random.permutation(N)\n",
    "    for j in range(N//batch_size):\n",
    "        train_batch = X_train[perm[j*batch_size : (j+1)*batch_size]]\n",
    "        response_batch = y_train[perm[j*batch_size : (j+1)*batch_size]]\n",
    "        l = 0\n",
    "        with sequential.train():\n",
    "            for t in range(T):\n",
    "                z = sequential(train_batch[:, t, :])\n",
    "                l = rm.mse(z, response_batch)\n",
    "            sequential.truncate()\n",
    "        l.grad().update(optimizer)\n",
    "        loss += l.as_ndarray()\n",
    "    loss = loss / (N // batch_size)\n",
    "    l_test = 0\n",
    "    for t in range(T):\n",
    "        z = sequential(X_test[:, t, :])\n",
    "        l_test = rm.mse(z, y_test)\n",
    "    sequential.truncate()\n",
    "    test_loss += l_test.as_ndarray()\n",
    "    if i % 10 == 0:\n",
    "        print(\"epoch:{:04d} loss:{:.5f} test_loss:{:.5f}\".format(i, loss, test_loss))\n",
    "    learning_curve.append(loss)\n",
    "    test_learning_curve.append(test_loss)"
   ]
  },
  {
   "cell_type": "code",
   "execution_count": 154,
   "metadata": {},
   "outputs": [
    {
     "data": {
      "image/png": "[encoded data removed]",
      "text/plain": [
       "<Figure size 720x288 with 1 Axes>"
      ]
     },
     "metadata": {},
     "output_type": "display_data"
    }
   ],
   "source": [
    "plt.figure(figsize=(10, 4))\n",
    "plt.plot(learning_curve, label='loss')\n",
    "plt.plot(test_learning_curve, label='test_loss', alpha=0.6)\n",
    "plt.title('Learning curve')\n",
    "plt.xlabel(\"Epoch\")\n",
    "plt.ylabel(\"MSE\")\n",
    "plt.ylim(0, 2)\n",
    "plt.legend()\n",
    "plt.grid()"
   ]
  },
  {
   "cell_type": "code",
   "execution_count": 157,
   "metadata": {
    "scrolled": false
   },
   "outputs": [
    {
     "data": {
      "image/png": "[encoded data removed]",
      "text/plain": [
       "<Figure size 576x576 with 1 Axes>"
      ]
     },
     "metadata": {},
     "output_type": "display_data"
    }
   ],
   "source": [
    "# predict test value\n",
    "# y_train_pred = sequential(X_train[:, t, :])\n",
    "y_test_pred = sequential(X_test[:, t, :])\n",
    "\n",
    "# # convert standardized heating-load to its original unit\n",
    "# true = y_test[:, 0].reshape(-1, 1) * v_std + v_mean\n",
    "# pred = y_pred * v_std + v_mean\n",
    "\n",
    "plt.figure(figsize=(8, 8))\n",
    "plt.plot([0, 2], [0, 2], c='k', alpha=0.6) # diagonal line\n",
    "# plt.scatter(y_train, y_train_pred)\n",
    "plt.scatter(y_test, y_test_pred)\n",
    "plt.xlim(0, 2)\n",
    "plt.ylim(0, 2)\n",
    "plt.xlabel('Actual', fontsize=16)\n",
    "plt.ylabel('Prediction', fontsize=16)\n",
    "plt.grid()"
   ]
  },
  {
   "cell_type": "code",
   "execution_count": null,
   "metadata": {},
   "outputs": [],
   "source": []
  }
 ],
 "metadata": {
  "kernelspec": {
   "display_name": "Python 3",
   "language": "python",
   "name": "python3"
  },
  "language_info": {
   "codemirror_mode": {
    "name": "ipython",
    "version": 3
   },
   "file_extension": ".py",
   "mimetype": "text/x-python",
   "name": "python",
   "nbconvert_exporter": "python",
   "pygments_lexer": "ipython3",
   "version": "3.6.3"
  }
 },
 "nbformat": 4,
 "nbformat_minor": 2
}
