{
 "cells": [
  {
   "cell_type": "code",
   "execution_count": 6,
   "metadata": {},
   "outputs": [
    {
     "data": {
      "text/html": [
       "<style>\n",
       "    div#notebook-container    { width: 95%; }\n",
       "    div#menubar-container     { width: 65%; }\n",
       "    div#maintoolbar-container { width: 99%; }\n",
       "</style>"
      ],
      "text/plain": [
       "<IPython.core.display.HTML object>"
      ]
     },
     "metadata": {},
     "output_type": "display_data"
    }
   ],
   "source": [
    "%%HTML\n",
    "<style>\n",
    "    div#notebook-container    { width: 95%; }\n",
    "    div#menubar-container     { width: 65%; }\n",
    "    div#maintoolbar-container { width: 99%; }\n",
    "</style>"
   ]
  },
  {
   "cell_type": "markdown",
   "metadata": {},
   "source": [
    "### Library"
   ]
  },
  {
   "cell_type": "code",
   "execution_count": 7,
   "metadata": {},
   "outputs": [],
   "source": [
    "from datetime import datetime, timedelta\n",
    "import oandapy\n",
    "import pandas as pd\n",
    "import numpy as np\n",
    "import matplotlib.pyplot as plt\n",
    "from scipy.stats import linregress\n",
    "import pickle\n",
    "import sys\n",
    "import os\n",
    "import talib"
   ]
  },
  {
   "cell_type": "code",
   "execution_count": 8,
   "metadata": {},
   "outputs": [],
   "source": [
    "sys.path.append('/Users/toshio/MyProject/fx')\n",
    "from config import token\n",
    "from lib.indicator import ichimoku"
   ]
  },
  {
   "cell_type": "markdown",
   "metadata": {},
   "source": [
    "### 過去データの読み込み"
   ]
  },
  {
   "cell_type": "code",
   "execution_count": 9,
   "metadata": {},
   "outputs": [],
   "source": [
    "gran = 'H1'"
   ]
  },
  {
   "cell_type": "code",
   "execution_count": 10,
   "metadata": {},
   "outputs": [],
   "source": [
    "with open('../intermediate_data/data_{}.pickle'.format(gran), mode='rb') as f:\n",
    "    df = pickle.load(f)"
   ]
  },
  {
   "cell_type": "markdown",
   "metadata": {},
   "source": [
    "### データをohlcvの形に変換"
   ]
  },
  {
   "cell_type": "code",
   "execution_count": 11,
   "metadata": {
    "scrolled": true
   },
   "outputs": [],
   "source": [
    "df_ask = pd.DataFrame(columns = ['open', 'high', 'low', 'close', 'volume'])\n",
    "df_ask['open'] = df['openAsk']\n",
    "df_ask['high'] = df['highAsk']\n",
    "df_ask['low'] = df['lowAsk']\n",
    "df_ask['close'] = df['closeAsk']\n",
    "df_ask['volume'] = df['volume']\n",
    "arr_ask = np.array(df_ask)"
   ]
  },
  {
   "cell_type": "code",
   "execution_count": 12,
   "metadata": {},
   "outputs": [],
   "source": [
    "df_bid = pd.DataFrame(columns = ['open', 'high', 'low', 'close', 'volume'])\n",
    "df_bid['open'] = df['openBid']\n",
    "df_bid['high'] = df['highBid']\n",
    "df_bid['low'] = df['lowBid']\n",
    "df_bid['close'] = df['closeBid']\n",
    "df_bid['volume'] = df['volume']\n",
    "arr_bid = np.array(df_bid)"
   ]
  },
  {
   "cell_type": "code",
   "execution_count": null,
   "metadata": {},
   "outputs": [],
   "source": []
  },
  {
   "cell_type": "markdown",
   "metadata": {},
   "source": [
    "### 前日終値との差を取得\n",
    "翌日の終値がどれだけ下がるかを各日付の値とする"
   ]
  },
  {
   "cell_type": "code",
   "execution_count": 13,
   "metadata": {},
   "outputs": [],
   "source": [
    "delta = pd.DataFrame(index = df.index[1:], columns = ['delta_close'])\n",
    "delta['delta_close'] = df_ask['close'].diff()[:-1]"
   ]
  },
  {
   "cell_type": "markdown",
   "metadata": {},
   "source": [
    "### テクニカル指標の算出"
   ]
  },
  {
   "cell_type": "code",
   "execution_count": 14,
   "metadata": {},
   "outputs": [],
   "source": [
    "sma = pd.DataFrame(index = df.index, columns = ['sma5', 'sma25', 'sma50', 'sma75'])\n",
    "sma['sma5'] = talib.SMA(arr_ask[:,3], timeperiod = 5)\n",
    "sma['sma25'] = talib.SMA(arr_ask[:,3], timeperiod = 25)\n",
    "sma['sma50'] = talib.SMA(arr_ask[:,3], timeperiod = 50)\n",
    "sma['sma75'] = talib.SMA(arr_ask[:,3], timeperiod = 75)"
   ]
  },
  {
   "cell_type": "code",
   "execution_count": 15,
   "metadata": {},
   "outputs": [],
   "source": [
    "macd = pd.DataFrame(index = df.index, columns = ['macd', 'macdsignal', 'macdhist'])\n",
    "macd['macd'] =  talib.MACD(arr_ask[:,3],fastperiod=12, slowperiod=26, signalperiod=9)[0]\n",
    "macd['macdsignal'] =  talib.MACD(arr_ask[:,3],fastperiod=12, slowperiod=26, signalperiod=9)[1]\n",
    "macd['macdhist'] =  talib.MACD(arr_ask[:,3],fastperiod=12, slowperiod=26, signalperiod=9)[2]"
   ]
  },
  {
   "cell_type": "code",
   "execution_count": 16,
   "metadata": {},
   "outputs": [],
   "source": [
    "rsi = pd.DataFrame(index = df.index, columns = ['rsi'])\n",
    "rsi['rsi'] =  talib.RSI(arr_ask[:,3], timeperiod = 14)"
   ]
  },
  {
   "cell_type": "code",
   "execution_count": 17,
   "metadata": {},
   "outputs": [],
   "source": [
    "bband = pd.DataFrame(index = df.index, columns = ['-3sigma', '-2sigma', '-1sigma', '+1sigma', '+2sigma', '+3sigma'])\n",
    "bband['+1sigma'] = talib.BBANDS(arr_ask[:,3], timeperiod=15, nbdevup=1, nbdevdn=1)[0]\n",
    "bband['-1sigma'] = talib.BBANDS(arr_ask[:,3], timeperiod=15, nbdevup=1, nbdevdn=1)[2]\n",
    "bband['+2sigma'] = talib.BBANDS(arr_ask[:,3], timeperiod=15, nbdevup=2, nbdevdn=2)[0]\n",
    "bband['-2sigma'] = talib.BBANDS(arr_ask[:,3], timeperiod=15, nbdevup=2, nbdevdn=2)[2]\n",
    "bband['+3sigma'] = talib.BBANDS(arr_ask[:,3], timeperiod=15, nbdevup=3, nbdevdn=3)[0]\n",
    "bband['-3sigma'] = talib.BBANDS(arr_ask[:,3], timeperiod=15, nbdevup=3, nbdevdn=3)[2]"
   ]
  },
  {
   "cell_type": "code",
   "execution_count": 18,
   "metadata": {},
   "outputs": [],
   "source": [
    "adx = pd.DataFrame(index = df.index, columns = ['adx'])\n",
    "adx['adx'] = talib.ADX(arr_ask[:,1], arr_ask[:,2], arr_ask[:,3], timeperiod =14)"
   ]
  },
  {
   "cell_type": "code",
   "execution_count": 19,
   "metadata": {},
   "outputs": [],
   "source": [
    "di = pd.DataFrame(index = df.index, columns = ['+di', '-di'])\n",
    "di['+di'] = talib.PLUS_DI(arr_ask[:,1], arr_ask[:,2], arr_ask[:,3], timeperiod = 14)\n",
    "di['-di'] = talib.MINUS_DI(arr_ask[:,1], arr_ask[:,2], arr_ask[:,3], timeperiod = 14)"
   ]
  },
  {
   "cell_type": "code",
   "execution_count": 20,
   "metadata": {},
   "outputs": [],
   "source": [
    "sar = pd.DataFrame(index = df.index, columns = ['sar'])\n",
    "sar['sar'] = talib.SAR(arr_ask[:,1],arr_ask[:,2], acceleration=0.05, maximum=0.2)"
   ]
  },
  {
   "cell_type": "code",
   "execution_count": 21,
   "metadata": {},
   "outputs": [],
   "source": [
    "ichi = ichimoku(df_ask).drop('close', axis = 1)"
   ]
  },
  {
   "cell_type": "markdown",
   "metadata": {},
   "source": [
    "### テクニカル指標を結合"
   ]
  },
  {
   "cell_type": "code",
   "execution_count": 22,
   "metadata": {},
   "outputs": [],
   "source": [
    "adder = [delta, sma, macd, rsi, bband, adx, di, sar, ichi]\n",
    "data = df.join(adder)\n",
    "data = data.dropna()"
   ]
  },
  {
   "cell_type": "markdown",
   "metadata": {},
   "source": [
    "### 出力"
   ]
  },
  {
   "cell_type": "code",
   "execution_count": 23,
   "metadata": {},
   "outputs": [],
   "source": [
    "with open('../intermediate_data/prep_data_{}.pickle'.format(gran), mode='wb') as f:\n",
    "    pickle.dump(data, f)"
   ]
  }
 ],
 "metadata": {
  "kernelspec": {
   "display_name": "Python 3",
   "language": "python",
   "name": "python3"
  },
  "language_info": {
   "codemirror_mode": {
    "name": "ipython",
    "version": 3
   },
   "file_extension": ".py",
   "mimetype": "text/x-python",
   "name": "python",
   "nbconvert_exporter": "python",
   "pygments_lexer": "ipython3",
   "version": "3.6.3"
  }
 },
 "nbformat": 4,
 "nbformat_minor": 2
}
