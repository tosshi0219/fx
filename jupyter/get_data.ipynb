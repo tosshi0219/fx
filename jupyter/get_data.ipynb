{
 "cells": [
  {
   "cell_type": "markdown",
   "metadata": {},
   "source": [
    "### Library"
   ]
  },
  {
   "cell_type": "code",
   "execution_count": 3,
   "metadata": {},
   "outputs": [],
   "source": [
    "from datetime import datetime, timedelta\n",
    "import oandapy\n",
    "import pandas as pd\n",
    "import time\n",
    "import matplotlib.pyplot as plt\n",
    "import numpy as np\n",
    "import pickle\n",
    "import sys\n",
    "import os\n",
    "import talib\n",
    "sys.path.append('/Users/toshio/MyProject/fx')\n",
    "from config import token"
   ]
  },
  {
   "cell_type": "markdown",
   "metadata": {},
   "source": [
    "### Oandaのインスタンス化"
   ]
  },
  {
   "cell_type": "code",
   "execution_count": 4,
   "metadata": {
    "scrolled": true
   },
   "outputs": [],
   "source": [
    "access_token = token\n",
    "oanda = oandapy.API(environment=\"practice\", access_token=access_token)"
   ]
  },
  {
   "cell_type": "markdown",
   "metadata": {},
   "source": [
    "### 過去データの取得"
   ]
  },
  {
   "cell_type": "code",
   "execution_count": 52,
   "metadata": {
    "scrolled": true
   },
   "outputs": [
    {
     "name": "stdout",
     "output_type": "stream",
     "text": [
      "0 2004-11-23 00:00:00 2018-08-01 00:00:00\n",
      "1 1991-03-17 00:00:00 2004-11-22 00:00:00\n"
     ]
    }
   ],
   "source": [
    "i = 0\n",
    "end = datetime(2018, 8, 1, 0, 0)\n",
    "res = []\n",
    "while i < 2:\n",
    "    start = end - timedelta(days = 4999)\n",
    "    print(i, start, end)\n",
    "\n",
    "    end_day =  '{0}-{1:02d}-{2:02d}-{3:02d}:{4:02d}:{5:02d}'.format(end.year, end.month, end.day, end.hour, end.minute, end.second)\n",
    "    start_day =  '{0}-{1:02d}-{2:02d}-{3:02d}:{4:02d}:{5:02d}'.format(start.year, start.month, start.day, start.hour, start.minute, start.second)\n",
    "\n",
    "    res.append(oanda.get_history(instrument=\"USD_JPY\",granularity=\"D\",start = start_day, end = end_day))\n",
    "    i += 1\n",
    "    end = start - timedelta(days = 1)"
   ]
  },
  {
   "cell_type": "code",
   "execution_count": 53,
   "metadata": {
    "scrolled": true
   },
   "outputs": [],
   "source": [
    "dfs = []\n",
    "dfs.append(pd.DataFrame(res[0]['candles']))\n",
    "dfs.append(pd.DataFrame(res[1]['candles']))\n",
    "df = pd.concat([dfs[1], dfs[0]], axis = 0)"
   ]
  },
  {
   "cell_type": "code",
   "execution_count": 54,
   "metadata": {
    "scrolled": true
   },
   "outputs": [],
   "source": [
    "df = df.drop(['complete'], axis = 1)\n",
    "\n",
    "df['time'] = df['time'].str[:-8]\n",
    "df['time'] = df['time'].str.replace('T',' ')\n",
    "times = [datetime.strptime(v, '%Y-%m-%d %H:%M:%S') for v in df['time']]\n",
    "df['time'] = times\n",
    "df = df.set_index('time',drop = True)"
   ]
  },
  {
   "cell_type": "markdown",
   "metadata": {},
   "source": [
    "### 出力"
   ]
  },
  {
   "cell_type": "code",
   "execution_count": 60,
   "metadata": {},
   "outputs": [],
   "source": [
    "with open('../intermediate_data/data.pickle', mode='wb') as f:\n",
    "    pickle.dump(df, f)"
   ]
  },
  {
   "cell_type": "code",
   "execution_count": null,
   "metadata": {},
   "outputs": [],
   "source": []
  }
 ],
 "metadata": {
  "kernelspec": {
   "display_name": "Python 3",
   "language": "python",
   "name": "python3"
  },
  "language_info": {
   "codemirror_mode": {
    "name": "ipython",
    "version": 3
   },
   "file_extension": ".py",
   "mimetype": "text/x-python",
   "name": "python",
   "nbconvert_exporter": "python",
   "pygments_lexer": "ipython3",
   "version": "3.6.4"
  }
 },
 "nbformat": 4,
 "nbformat_minor": 2
}
