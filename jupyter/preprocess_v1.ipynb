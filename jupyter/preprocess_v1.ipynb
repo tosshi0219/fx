{
 "cells": [
  {
   "cell_type": "code",
   "execution_count": 66,
   "metadata": {},
   "outputs": [],
   "source": [
    "from datetime import datetime, timedelta\n",
    "import oandapy\n",
    "import pandas as pd\n",
    "import numpy as np\n",
    "import matplotlib.pyplot as plt\n",
    "import pickle\n",
    "import sys\n",
    "import os\n",
    "import talib\n",
    "sys.path.append('/Users/toshio/project/fx')\n",
    "from config import token\n",
    "from lib.indicator import ichimoku\n",
    "\n",
    "class Preprocess:\n",
    "    def __init__(self, res, df = None):\n",
    "        self.res = res\n",
    "        if df is None:\n",
    "            self.df = self.res_to_df()\n",
    "        else:\n",
    "            self.df = df\n",
    "        self.arr_ohlc, self.ohlc = self.prep_ohlcv()\n",
    "        self.delta = self.prep_delta()\n",
    "        self.sma = self.prep_sma()\n",
    "        self.macd = self.prep_macd()\n",
    "        self.rsi = self.prep_rsi()\n",
    "        self.bband = self.prep_bband()\n",
    "        self.adx = self.prep_adx()\n",
    "        self.di = self.prep_di()\n",
    "        self.sar = self.prep_sar()\n",
    "        self.ichi = self.prep_ichi()\n",
    "        self.updown = self.prep_updown()\n",
    "        self.data = self.prep_concat()\n",
    "        \n",
    "    def res_to_df(self):\n",
    "        df = pd.DataFrame(self.res['candles'])\n",
    "        df = df.drop(['complete'], axis = 1)\n",
    "        df['time'] = df['time'].str[:-8]\n",
    "        df['time'] = df['time'].str.replace('T',' ')\n",
    "        times = [datetime.strptime(v, '%Y-%m-%d %H:%M:%S') for v in df['time']]\n",
    "        df['time'] = times\n",
    "        df = df.set_index('time',drop = True)\n",
    "        return df\n",
    "\n",
    "    def prep_ohlcv(self):\n",
    "        ohlc = pd.DataFrame(columns = ['open', 'high', 'low', 'close'])\n",
    "        ohlc['open'] = self.df['open']\n",
    "        ohlc['high'] = self.df['high']\n",
    "        ohlc['low'] = self.df['low']\n",
    "        ohlc['close'] = self.df['close']\n",
    "        arr_ohlc = np.array(ohlc)\n",
    "        return arr_ohlc, ohlc\n",
    "\n",
    "    def prep_delta(self):\n",
    "        delta = pd.DataFrame(index = self.df.index, columns = ['delta_close'])\n",
    "        delta['delta_close'] = self.ohlc['close'].diff()\n",
    "        return delta\n",
    "\n",
    "    def prep_sma(self):\n",
    "        sma = pd.DataFrame(index = self.df.index, columns = ['sma5', 'sma25', 'sma50', 'sma75','sma100','sma500'])\n",
    "        sma['sma5'] = talib.SMA(self.arr_ohlc[:,3], timeperiod = 5)\n",
    "        sma['sma25'] = talib.SMA(self.arr_ohlc[:,3], timeperiod = 25)\n",
    "        sma['sma50'] = talib.SMA(self.arr_ohlc[:,3], timeperiod = 50)\n",
    "        sma['sma75'] = talib.SMA(self.arr_ohlc[:,3], timeperiod = 75)\n",
    "        sma['sma100'] = talib.SMA(self.arr_ohlc[:,3], timeperiod = 100)\n",
    "        sma['sma500'] = talib.SMA(self.arr_ohlc[:,3], timeperiod = 500)\n",
    "        return sma\n",
    "\n",
    "    def prep_macd(self):\n",
    "        macd = pd.DataFrame(index = self.df.index, columns = ['macd', 'macdsignal', 'macdhist'])\n",
    "        macd['macd'] =  talib.MACD(self.arr_ohlc[:,3],fastperiod=12, slowperiod=26, signalperiod=9)[0]\n",
    "        macd['macdsignal'] =  talib.MACD(self.arr_ohlc[:,3],fastperiod=12, slowperiod=26, signalperiod=9)[1]\n",
    "        macd['macdhist'] =  talib.MACD(self.arr_ohlc[:,3],fastperiod=12, slowperiod=26, signalperiod=9)[2]\n",
    "        return macd\n",
    "\n",
    "    def prep_rsi(self):\n",
    "        rsi = pd.DataFrame(index = self.df.index, columns = ['rsi'])\n",
    "        rsi['rsi'] =  talib.RSI(self.arr_ohlc[:,3], timeperiod = 14)\n",
    "        return rsi\n",
    "\n",
    "    def prep_bband(self):\n",
    "        bband = pd.DataFrame(index = self.df.index, columns = ['-3sigma', '-2sigma', '-1sigma', '+1sigma', '+2sigma', '+3sigma'])\n",
    "        bband['+1sigma'] = talib.BBANDS(self.arr_ohlc[:,3], timeperiod=15, nbdevup=1, nbdevdn=1)[0]\n",
    "        bband['-1sigma'] = talib.BBANDS(self.arr_ohlc[:,3], timeperiod=15, nbdevup=1, nbdevdn=1)[2]\n",
    "        bband['+2sigma'] = talib.BBANDS(self.arr_ohlc[:,3], timeperiod=15, nbdevup=2, nbdevdn=2)[0]\n",
    "        bband['-2sigma'] = talib.BBANDS(self.arr_ohlc[:,3], timeperiod=15, nbdevup=2, nbdevdn=2)[2]\n",
    "        bband['+3sigma'] = talib.BBANDS(self.arr_ohlc[:,3], timeperiod=15, nbdevup=3, nbdevdn=3)[0]\n",
    "        bband['-3sigma'] = talib.BBANDS(self.arr_ohlc[:,3], timeperiod=15, nbdevup=3, nbdevdn=3)[2]\n",
    "        return bband\n",
    "\n",
    "    def prep_adx(self):\n",
    "        adx = pd.DataFrame(index = self.df.index, columns = ['adx'])\n",
    "        adx['adx'] = talib.ADX(self.arr_ohlc[:,1], self.arr_ohlc[:,2], self.arr_ohlc[:,3], timeperiod =14)\n",
    "        return adx\n",
    "\n",
    "    def prep_di(self):\n",
    "        di = pd.DataFrame(index = self.df.index, columns = ['+di', '-di'])\n",
    "        di['+di'] = talib.PLUS_DI(self.arr_ohlc[:,1], self.arr_ohlc[:,2], self.arr_ohlc[:,3], timeperiod = 14)\n",
    "        di['-di'] = talib.MINUS_DI(self.arr_ohlc[:,1], self.arr_ohlc[:,2], self.arr_ohlc[:,3], timeperiod = 14)\n",
    "        return di\n",
    "\n",
    "    def prep_sar(self):\n",
    "        sar = pd.DataFrame(index = self.df.index, columns = ['sar'])\n",
    "        sar['sar'] = talib.SAR(self.arr_ohlc[:,1], self.arr_ohlc[:,2], acceleration=0.05, maximum=0.2)\n",
    "        return sar\n",
    "\n",
    "    def prep_ichi(self):\n",
    "        ichi = ichimoku(self.ohlc).drop('close', axis = 1)\n",
    "        return ichi\n",
    "\n",
    "    def prep_updown(self):\n",
    "        threshold = 0.01\n",
    "        updown = pd.DataFrame(index = self.df.index, columns = ['up', 'down', 'nochange'])\n",
    "        updown['up'] = self.delta['delta_close'].map(lambda x: 1 if x > threshold else 0)\n",
    "        updown['down'] = self.delta['delta_close'].map(lambda x: 1 if x < -threshold else 0)\n",
    "        updown['nochange'] = self.delta['delta_close'].map(lambda x: 1 if -threshold < x < threshold else 0)\n",
    "        return updown\n",
    "\n",
    "    def prep_concat(self):\n",
    "        adder = [self.delta, self.sma, self.macd, self.rsi, self.bband, self.adx, self.di, self.sar, self.ichi, self.updown]\n",
    "        data = self.df.join(adder)\n",
    "        data = data.drop('chiko', axis = 1)\n",
    "        data = data.dropna()\n",
    "        return data"
   ]
  },
  {
   "cell_type": "markdown",
   "metadata": {},
   "source": [
    "## Main"
   ]
  },
  {
   "cell_type": "code",
   "execution_count": 67,
   "metadata": {
    "scrolled": true
   },
   "outputs": [],
   "source": [
    "gran = 'M15'\n",
    "look_back = 10\n",
    "\n",
    "start_t = datetime(2010, 1, 1),\n",
    "end_t = datetime(2018, 8, 23)"
   ]
  },
  {
   "cell_type": "code",
   "execution_count": 68,
   "metadata": {},
   "outputs": [],
   "source": [
    "with open(\"../intermediate_data/USDJPY_M15_20100101@000000_20180823@000000.pkl\", mode='rb') as f:\n",
    "    df = pickle.load(f)\n",
    "df = df.set_index('date')\n",
    "res = 0\n",
    "# oanda = oandapy.API(environment=\"practice\", access_token=token)\n",
    "# res = oanda.get_history(instrument=\"USD_JPY\",granularity=gran, count = 77 + look_back)"
   ]
  },
  {
   "cell_type": "code",
   "execution_count": 69,
   "metadata": {
    "scrolled": true
   },
   "outputs": [],
   "source": [
    "prep = Preprocess(res, df)\n",
    "data = prep.data"
   ]
  },
  {
   "cell_type": "markdown",
   "metadata": {},
   "source": [
    "### 出力"
   ]
  },
  {
   "cell_type": "code",
   "execution_count": 64,
   "metadata": {},
   "outputs": [],
   "source": [
    "data = data.drop(['up', 'down', 'nochange'], axis = 1)\n",
    "with open('../intermediate_data/prep_for_reg_USDJPY_M15_20100101@000000_20180823@000000.pkl', mode='wb') as f:\n",
    "    pickle.dump(data, f)"
   ]
  },
  {
   "cell_type": "code",
   "execution_count": 70,
   "metadata": {},
   "outputs": [],
   "source": [
    "with open('../intermediate_data/prep_for_class_USDJPY_M15_20100101@000000_20180823@000000.pkl', mode='wb') as f:\n",
    "    pickle.dump(data, f)"
   ]
  },
  {
   "cell_type": "code",
   "execution_count": null,
   "metadata": {},
   "outputs": [],
   "source": []
  }
 ],
 "metadata": {
  "kernelspec": {
   "display_name": "Python 3",
   "language": "python",
   "name": "python3"
  },
  "language_info": {
   "codemirror_mode": {
    "name": "ipython",
    "version": 3
   },
   "file_extension": ".py",
   "mimetype": "text/x-python",
   "name": "python",
   "nbconvert_exporter": "python",
   "pygments_lexer": "ipython3",
   "version": "3.6.4"
  }
 },
 "nbformat": 4,
 "nbformat_minor": 2
}
